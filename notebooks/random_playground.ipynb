{
 "cells": [
  {
   "cell_type": "code",
   "execution_count": 36,
   "metadata": {},
   "outputs": [
    {
     "name": "stdout",
     "output_type": "stream",
     "text": [
      "418\n"
     ]
    }
   ],
   "source": [
    "from models.models import ResNet2dplus1d_18\n",
    "import torch\n",
    "import configs.pyroot_config as pyroot_config\n",
    "import os\n",
    "from torch.utils.data import default_collate\n",
    "import torch\n",
    "from src.data.mice_dataset import MouseSniffingVideoDatasetMultipleFramesLabeled\n",
    "import torchvision.transforms.v2 as tt\n",
    "from models.lightning_module import DeepSniff\n",
    "from models.models import MobileNetV3, ResNet2dplus1d_18\n",
    "\n",
    "config_paths = pyroot_config.ConfigPaths()\n",
    "\n",
    "### TRANSFORMS\n",
    "\n",
    "loading_transforms=tt.Compose([tt.PILToTensor(),\n",
    "                        tt.Resize([112, 112] ,antialias=True)])\n",
    "                        \n",
    "transforms = tt.Compose([\n",
    "                        tt.ConvertImageDtype(torch.float32),\n",
    "                        tt.Normalize(mean=[0.36], std=[0.2]),\n",
    "                        #permute\n",
    "                        tt.Lambda(lambda x: x.permute(1, 0, 2, 3) ),\n",
    "                        ])\n",
    "\n",
    "\n",
    "transforms_val = tt.Compose([\n",
    "                            tt.ConvertImageDtype(torch.float32),\n",
    "                            tt.Normalize(mean=[0.36], std=[0.2]),\n",
    "                            #permute\n",
    "                            tt.Lambda(lambda x: x.permute(1, 0, 2, 3) ),\n",
    "                            ])\n",
    "\n",
    "### DATASET\n",
    "\n",
    "data_dir = config_paths.data_processed / 'sniff-training-dataset'\n",
    "\n",
    "#list all subdirs\n",
    "trails = [f.path for f in os.scandir(data_dir) if f.is_dir()]\n",
    "trail = trails[0]\n",
    "\n",
    "window_size = 5\n",
    "signal_window_size = 1\n",
    "\n",
    "\n",
    "dataset = MouseSniffingVideoDatasetMultipleFramesLabeled(root_dir=trail,\n",
    "                                                                    video_path='cropped_frames',\n",
    "                                                                    signal_path='breathing_onsets.txt',\n",
    "                                                                    window_size=window_size,\n",
    "                                                                    signal_window_size=signal_window_size,\n",
    "                                                                    transforms=transforms,\n",
    "                                                                    loading_transforms=loading_transforms,\n",
    "                                                                    load_in_memory=True)\n",
    "                                                                    \n",
    "print(len(dataset))\n",
    "\n",
    "dataloader = torch.utils.data.DataLoader(dataset, batch_size=1, shuffle=True, collate_fn=default_collate)"
   ]
  },
  {
   "cell_type": "code",
   "execution_count": null,
   "metadata": {},
   "outputs": [],
   "source": []
  },
  {
   "cell_type": "code",
   "execution_count": 37,
   "metadata": {},
   "outputs": [],
   "source": [
    "model = ResNet2dplus1d_18()"
   ]
  },
  {
   "cell_type": "code",
   "execution_count": 38,
   "metadata": {},
   "outputs": [
    {
     "name": "stdout",
     "output_type": "stream",
     "text": [
      "torch.Size([1, 3, 5, 112, 112])\n",
      "torch.Size([1, 3, 5, 112, 112])\n"
     ]
    },
    {
     "data": {
      "text/plain": [
       "tensor([[0.0754]], grad_fn=<AddmmBackward0>)"
      ]
     },
     "execution_count": 38,
     "metadata": {},
     "output_type": "execute_result"
    }
   ],
   "source": [
    "sample = next(iter(dataloader))[0]\n",
    "print(sample.shape)\n",
    "#swap dim 1 and 2\n",
    "# repeat channel dim\n",
    "print(sample.shape)\n",
    "model(sample)"
   ]
  },
  {
   "cell_type": "code",
   "execution_count": 6,
   "metadata": {},
   "outputs": [],
   "source": [
    "import math\n",
    "lr_func = lambda epoch: min((epoch + 1) / (200 + 1e-8), 0.5 * (math.cos(epoch / 2000 * math.pi) + 1))"
   ]
  },
  {
   "cell_type": "code",
   "execution_count": 7,
   "metadata": {},
   "outputs": [
    {
     "data": {
      "text/plain": [
       "[<matplotlib.lines.Line2D at 0x7f78f4ee77c0>]"
      ]
     },
     "execution_count": 7,
     "metadata": {},
     "output_type": "execute_result"
    },
    {
     "data": {
      "image/png": "[encoded data removed]",
      "text/plain": [
       "<Figure size 640x480 with 1 Axes>"
      ]
     },
     "metadata": {},
     "output_type": "display_data"
    }
   ],
   "source": [
    "#plot lr_func\n",
    "import matplotlib.pyplot as plt\n",
    "\n",
    "x = range(1000)\n",
    "y = [lr_func(i) for i in x]\n",
    "plt.plot(x, y)"
   ]
  },
  {
   "cell_type": "code",
   "execution_count": null,
   "metadata": {},
   "outputs": [],
   "source": []
  }
 ],
 "metadata": {
  "kernelspec": {
   "display_name": "Python 3",
   "language": "python",
   "name": "python3"
  },
  "language_info": {
   "codemirror_mode": {
    "name": "ipython",
    "version": 3
   },
   "file_extension": ".py",
   "mimetype": "text/x-python",
   "name": "python",
   "nbconvert_exporter": "python",
   "pygments_lexer": "ipython3",
   "version": "3.10.12"
  }
 },
 "nbformat": 4,
 "nbformat_minor": 2
}
